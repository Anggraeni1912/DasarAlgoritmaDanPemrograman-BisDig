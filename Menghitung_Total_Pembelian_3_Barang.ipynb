{
  "nbformat": 4,
  "nbformat_minor": 0,
  "metadata": {
    "colab": {
      "provenance": []
    },
    "kernelspec": {
      "name": "python3",
      "display_name": "Python 3"
    },
    "language_info": {
      "name": "python"
    }
  },
  "cells": [
    {
      "cell_type": "code",
      "execution_count": 1,
      "metadata": {
        "colab": {
          "base_uri": "https://localhost:8080/"
        },
        "id": "4f-3esBjAC8z",
        "outputId": "fe51255b-760c-409f-c80f-2c29c60149b3"
      },
      "outputs": [
        {
          "output_type": "stream",
          "name": "stdout",
          "text": [
            "Masukkan harga barang pertama: 10000\n",
            "Masukkan harga barang kedua: 8000\n",
            "Masukkan harga barang ketiga: 5000\n",
            "Total harga pembelian adalah: Rp23000.00\n"
          ]
        }
      ],
      "source": [
        "# Program sederhana untuk menghitung total harga 3 barang\n",
        "\n",
        "# Input harga dari pengguna\n",
        "barang1 = float(input(\"Masukkan harga barang pertama: \"))\n",
        "barang2 = float(input(\"Masukkan harga barang kedua: \"))\n",
        "barang3 = float(input(\"Masukkan harga barang ketiga: \"))\n",
        "\n",
        "# Proses menghitung total\n",
        "total = barang1 + barang2 + barang3\n",
        "\n",
        "# Output hasil\n",
        "print(f\"Total harga pembelian adalah: Rp{total:.2f}\")"
      ]
    }
  ]
}